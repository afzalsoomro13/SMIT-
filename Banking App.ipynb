{
 "cells": [
  {
   "cell_type": "code",
   "execution_count": null,
   "id": "f6b1c2ed-1e27-482e-8200-81d85e899650",
   "metadata": {},
   "outputs": [
    {
     "name": "stdout",
     "output_type": "stream",
     "text": [
      "\n",
      "Banking System\n",
      "1. Create Account\n",
      "2. Deposit Money\n",
      "3. Withdraw Money\n",
      "4. Check Balance\n",
      "5. Print Statement\n",
      "6. Exit\n"
     ]
    },
    {
     "name": "stdin",
     "output_type": "stream",
     "text": [
      "Choose an option:  4\n",
      "Enter the account holder's name:  araiz\n"
     ]
    },
    {
     "name": "stdout",
     "output_type": "stream",
     "text": [
      "No account found for araiz. Please create an account first.\n",
      "\n",
      "Banking System\n",
      "1. Create Account\n",
      "2. Deposit Money\n",
      "3. Withdraw Money\n",
      "4. Check Balance\n",
      "5. Print Statement\n",
      "6. Exit\n"
     ]
    },
    {
     "name": "stdin",
     "output_type": "stream",
     "text": [
      "Choose an option:  1\n",
      "Enter the account holder's name:  araiz\n"
     ]
    },
    {
     "name": "stdout",
     "output_type": "stream",
     "text": [
      "Account for araiz created with balance 0.0.\n",
      "\n",
      "Banking System\n",
      "1. Create Account\n",
      "2. Deposit Money\n",
      "3. Withdraw Money\n",
      "4. Check Balance\n",
      "5. Print Statement\n",
      "6. Exit\n"
     ]
    },
    {
     "name": "stdin",
     "output_type": "stream",
     "text": [
      "Choose an option:  2\n",
      "Enter the account holder's name:  araiz\n",
      "Enter the amount to deposit:  100000\n"
     ]
    },
    {
     "name": "stdout",
     "output_type": "stream",
     "text": [
      "Deposited $100000.0. New balance: $100000.0\n",
      "\n",
      "Banking System\n",
      "1. Create Account\n",
      "2. Deposit Money\n",
      "3. Withdraw Money\n",
      "4. Check Balance\n",
      "5. Print Statement\n",
      "6. Exit\n"
     ]
    },
    {
     "name": "stdin",
     "output_type": "stream",
     "text": [
      "Choose an option:  3\n",
      "Enter the account holder's name:  araiz\n",
      "Enter the amount to withdraw:  200\n"
     ]
    },
    {
     "name": "stdout",
     "output_type": "stream",
     "text": [
      "Withdrew $200.0. New balance: $99800.0\n",
      "\n",
      "Banking System\n",
      "1. Create Account\n",
      "2. Deposit Money\n",
      "3. Withdraw Money\n",
      "4. Check Balance\n",
      "5. Print Statement\n",
      "6. Exit\n"
     ]
    },
    {
     "name": "stdin",
     "output_type": "stream",
     "text": [
      "Choose an option:  3\n",
      "Enter the account holder's name:  araiz\n",
      "Enter the amount to withdraw:  1000\n"
     ]
    },
    {
     "name": "stdout",
     "output_type": "stream",
     "text": [
      "Withdrew $1000.0. New balance: $98800.0\n",
      "\n",
      "Banking System\n",
      "1. Create Account\n",
      "2. Deposit Money\n",
      "3. Withdraw Money\n",
      "4. Check Balance\n",
      "5. Print Statement\n",
      "6. Exit\n"
     ]
    },
    {
     "name": "stdin",
     "output_type": "stream",
     "text": [
      "Choose an option:  4\n",
      "Enter the account holder's name:  araiz\n"
     ]
    },
    {
     "name": "stdout",
     "output_type": "stream",
     "text": [
      "The current balance for araiz is $98800.0.\n",
      "\n",
      "Banking System\n",
      "1. Create Account\n",
      "2. Deposit Money\n",
      "3. Withdraw Money\n",
      "4. Check Balance\n",
      "5. Print Statement\n",
      "6. Exit\n"
     ]
    },
    {
     "name": "stdin",
     "output_type": "stream",
     "text": [
      "Choose an option:  5\n",
      "Enter the account holder's name:  araiz\n"
     ]
    },
    {
     "name": "stdout",
     "output_type": "stream",
     "text": [
      "Account statement for araiz:\n",
      "Deposit: $100000.0. New Balance: $100000.0\n",
      "Withdrawal: $200.0. New Balance: $99800.0\n",
      "Withdrawal: $1000.0. New Balance: $98800.0\n",
      "\n",
      "Banking System\n",
      "1. Create Account\n",
      "2. Deposit Money\n",
      "3. Withdraw Money\n",
      "4. Check Balance\n",
      "5. Print Statement\n",
      "6. Exit\n"
     ]
    }
   ],
   "source": [
    "import os\n",
    "\n",
    "# Function to create a new account\n",
    "def create_account(accounts, name):\n",
    "    if name in accounts:\n",
    "        print(f\"Account for {name} already exists.\")\n",
    "        return accounts\n",
    "    account = {\n",
    "        \"name\": name,\n",
    "        \"balance\": 0.0,\n",
    "        \"transactions\": []\n",
    "    }\n",
    "    accounts[name] = account\n",
    "    print(f\"Account for {name} created with balance {account['balance']}.\")\n",
    "    return accounts\n",
    "\n",
    "# Function to deposit money into the account\n",
    "def deposit(accounts, name, amount):\n",
    "    if name not in accounts:\n",
    "        print(f\"No account found for {name}. Please create an account first.\")\n",
    "        return accounts\n",
    "    if amount <= 0:\n",
    "        print(\"Deposit amount must be positive!\")\n",
    "        return accounts\n",
    "    account = accounts[name]\n",
    "    account['balance'] += amount\n",
    "    account['transactions'].append(f\"Deposit: ${amount}. New Balance: ${account['balance']}\")\n",
    "    # Write the transaction to a file\n",
    "    with open(f\"{name}_transactions.txt\", \"a\") as file:\n",
    "        file.write(f\"Deposit: ${amount}. New Balance: ${account['balance']}\\n\")\n",
    "    print(f\"Deposited ${amount}. New balance: ${account['balance']}\")\n",
    "    return accounts\n",
    "\n",
    "# Function to withdraw money from the account\n",
    "def withdraw(accounts, name, amount):\n",
    "    if name not in accounts:\n",
    "        print(f\"No account found for {name}. Please create an account first.\")\n",
    "        return accounts\n",
    "    if amount <= 0:\n",
    "        print(\"Withdrawal amount must be positive!\")\n",
    "        return accounts\n",
    "    account = accounts[name]\n",
    "    if amount > account['balance']:\n",
    "        print(\"Insufficient balance for this withdrawal!\")\n",
    "        return accounts\n",
    "    account['balance'] -= amount\n",
    "    account['transactions'].append(f\"Withdrawal: ${amount}. New Balance: ${account['balance']}\")\n",
    "    # Write the transaction to a file\n",
    "    with open(f\"{name}_transactions.txt\", \"a\") as file:\n",
    "        file.write(f\"Withdrawal: ${amount}. New Balance: ${account['balance']}\\n\")\n",
    "    print(f\"Withdrew ${amount}. New balance: ${account['balance']}\")\n",
    "    return accounts\n",
    "\n",
    "# Function to check the balance of the account\n",
    "def check_balance(accounts, name):\n",
    "    if name not in accounts:\n",
    "        print(f\"No account found for {name}. Please create an account first.\")\n",
    "        return\n",
    "    account = accounts[name]\n",
    "    print(f\"The current balance for {name} is ${account['balance']}.\")\n",
    "    return account['balance']\n",
    "\n",
    "# Function to print the statement of all transactions\n",
    "def print_statement(accounts, name):\n",
    "    if name not in accounts:\n",
    "        print(f\"No account found for {name}. Please create an account first.\")\n",
    "        return\n",
    "    account = accounts[name]\n",
    "    if not account['transactions']:\n",
    "        print(f\"No transactions for {name}.\")\n",
    "    else:\n",
    "        print(f\"Account statement for {name}:\")\n",
    "        for transaction in account['transactions']:\n",
    "            print(transaction)\n",
    "\n",
    "# Main function to interact with the user\n",
    "def main():\n",
    "    accounts = {}  # Store multiple accounts\n",
    "    while True:\n",
    "        print(\"\\nBanking System\")\n",
    "        print(\"1. Create Account\")\n",
    "        print(\"2. Deposit Money\")\n",
    "        print(\"3. Withdraw Money\")\n",
    "        print(\"4. Check Balance\")\n",
    "        print(\"5. Print Statement\")\n",
    "        print(\"6. Exit\")\n",
    "\n",
    "        choice = input(\"Choose an option: \")\n",
    "\n",
    "        if choice == \"1\":\n",
    "            name = input(\"Enter the account holder's name: \")\n",
    "            accounts = create_account(accounts, name)\n",
    "        \n",
    "        elif choice == \"2\":\n",
    "            name = input(\"Enter the account holder's name: \")\n",
    "            amount = float(input(\"Enter the amount to deposit: \"))\n",
    "            accounts = deposit(accounts, name, amount)\n",
    "        \n",
    "        elif choice == \"3\":\n",
    "            name = input(\"Enter the account holder's name: \")\n",
    "            amount = float(input(\"Enter the amount to withdraw: \"))\n",
    "            accounts = withdraw(accounts, name, amount)\n",
    "        \n",
    "        elif choice == \"4\":\n",
    "            name = input(\"Enter the account holder's name: \")\n",
    "            check_balance(accounts, name)\n",
    "        \n",
    "        elif choice == \"5\":\n",
    "            name = input(\"Enter the account holder's name: \")\n",
    "            print_statement(accounts, name)\n",
    "        \n",
    "        elif choice == \"6\":\n",
    "            print(\"Exiting the system.\")\n",
    "            break\n",
    "        else:\n",
    "            print(\"Invalid choice, please try again.\")\n",
    "\n",
    "if __name__ == \"__main__\":\n",
    "    main()\n"
   ]
  },
  {
   "cell_type": "code",
   "execution_count": null,
   "id": "16d2bb4d-e889-4821-86b6-c14719a4cf5b",
   "metadata": {},
   "outputs": [],
   "source": []
  },
  {
   "cell_type": "code",
   "execution_count": null,
   "id": "29e9156e-8983-4c53-8ff3-1015da8baa85",
   "metadata": {},
   "outputs": [],
   "source": []
  },
  {
   "cell_type": "code",
   "execution_count": null,
   "id": "149ae1b3-604d-4c5c-9ad8-4e83719c7e80",
   "metadata": {},
   "outputs": [],
   "source": []
  },
  {
   "cell_type": "code",
   "execution_count": null,
   "id": "2eead717-e304-425e-96df-5aa77b09d54b",
   "metadata": {},
   "outputs": [],
   "source": []
  },
  {
   "cell_type": "code",
   "execution_count": null,
   "id": "d30191dd-4418-4d78-9c08-7d06cab086e0",
   "metadata": {},
   "outputs": [],
   "source": []
  },
  {
   "cell_type": "code",
   "execution_count": null,
   "id": "b8b72899-9ca6-4608-aeb8-881ab703c4ca",
   "metadata": {},
   "outputs": [],
   "source": []
  }
 ],
 "metadata": {
  "kernelspec": {
   "display_name": "Python 3 (ipykernel)",
   "language": "python",
   "name": "python3"
  },
  "language_info": {
   "codemirror_mode": {
    "name": "ipython",
    "version": 3
   },
   "file_extension": ".py",
   "mimetype": "text/x-python",
   "name": "python",
   "nbconvert_exporter": "python",
   "pygments_lexer": "ipython3",
   "version": "3.12.7"
  }
 },
 "nbformat": 4,
 "nbformat_minor": 5
}
