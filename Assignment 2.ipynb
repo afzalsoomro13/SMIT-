{
 "cells": [
  {
   "cell_type": "code",
   "execution_count": 3,
   "id": "36f148c3-6377-4a38-a49c-144b026b7eee",
   "metadata": {},
   "outputs": [],
   "source": [
    "1) Area of a Rectangle:\n",
    "Write a Python program to calculate the area of a rectangle. Use the formula:\n",
    "𝐴𝒓𝒆𝒂 = 𝒍𝒆𝒏𝒈𝒕𝒉 × 𝒘𝒊𝒅𝒕𝒉\n",
    "Take length and width as inputs from the user. "
   ]
  },
  {
   "cell_type": "code",
   "execution_count": 4,
   "id": "79454506-144b-4d2e-a5b2-1f8351e3fede",
   "metadata": {},
   "outputs": [
    {
     "name": "stdin",
     "output_type": "stream",
     "text": [
      "Enter the length of the rectangle:  12\n",
      "Enter the width of the rectangle:  12\n"
     ]
    },
    {
     "name": "stdout",
     "output_type": "stream",
     "text": [
      "The area of the rectangle is: 144.0\n"
     ]
    }
   ],
   "source": [
    "length = float(input(\"Enter the length of the rectangle: \"))\n",
    "width = float(input(\"Enter the width of the rectangle: \"))\n",
    "area = length * width\n",
    "print(\"The area of the rectangle is:\", area)"
   ]
  },
  {
   "cell_type": "code",
   "execution_count": 6,
   "id": "1ed6cdf6-7c90-4b3d-ae22-23159c14d207",
   "metadata": {},
   "outputs": [],
   "source": [
    "2) Circumference of a Circle:\n",
    "Write a Python program to calculate the circumference of a circle. Use the formula:\n",
    "𝑪𝒊𝒓𝒄𝒖𝒎𝒇𝒆𝒓𝒆𝒏𝒄𝒆 = 𝟐𝝅𝒓\n",
    "Take the radius r as input from the user."
   ]
  },
  {
   "cell_type": "code",
   "execution_count": 7,
   "id": "c3b5999d-3c98-4598-82bb-b716c8f247ca",
   "metadata": {},
   "outputs": [
    {
     "name": "stdin",
     "output_type": "stream",
     "text": [
      "Enter the value of radius of the circle:  12\n"
     ]
    },
    {
     "name": "stdout",
     "output_type": "stream",
     "text": [
      "The circumference of the circle is: 75.39822368615503\n"
     ]
    }
   ],
   "source": [
    "import math \n",
    "radius = float(input(\"Enter the value of radius of the circle: \"))\n",
    "circumference = 2 * math.pi * radius\n",
    "print(\"The circumference of the circle is:\", circumference)"
   ]
  },
  {
   "cell_type": "code",
   "execution_count": null,
   "id": "30acfd0a-d49b-43dd-b724-829c28df8713",
   "metadata": {},
   "outputs": [],
   "source": [
    "3) Simple Interest:\n",
    "Write a Python program to calculate the simple interest. Use the formula:\n",
    "𝑺𝒊𝒎𝒑𝒍𝒆 𝑰𝒏𝒕𝒆𝒓𝒆𝒔𝒕 = 𝑷𝒓𝒊𝒏𝒄𝒊𝒑𝒂𝒍 × 𝑹𝒂𝒕𝒆 × 𝑻𝒊𝒎𝒆\n",
    "Take Principal, Rate, and Time as inputs from the user. "
   ]
  },
  {
   "cell_type": "code",
   "execution_count": 8,
   "id": "337efa72-b093-44b5-ba46-04b9e48feb7e",
   "metadata": {},
   "outputs": [
    {
     "name": "stdin",
     "output_type": "stream",
     "text": [
      "Enter the principal amount:  12\n",
      "Enter the interest rate (in percentage):  12\n",
      "Enter the time in years:  12\n"
     ]
    },
    {
     "name": "stdout",
     "output_type": "stream",
     "text": [
      "The simple interest is: 17.28\n"
     ]
    }
   ],
   "source": [
    "principal = float(input(\"Enter the principal amount: \"))\n",
    "rate = float(input(\"Enter the interest rate (in percentage): \"))\n",
    "time = float(input(\"Enter the time in years: \"))\n",
    "simple_interest = (principal * rate * time) / 100\n",
    "print(\"The simple interest is:\", simple_interest)"
   ]
  },
  {
   "cell_type": "code",
   "execution_count": null,
   "id": "94591371-02e1-4333-a750-5394333ab815",
   "metadata": {},
   "outputs": [],
   "source": [
    "4) Speed of an Object:\n",
    "Write a Python program to calculate the speed of an object. Use the formula:\n",
    "𝑆𝒑𝒆𝒆𝒅 = 𝑫𝒊𝒔𝒕𝒂𝒏𝒄𝒆 / 𝑻𝒊𝒎𝒆\n",
    "Take Distance and Time as inputs from the user. "
   ]
  },
  {
   "cell_type": "code",
   "execution_count": 9,
   "id": "5e6b99c9-d88e-4b7d-ae9f-d23e43d1d349",
   "metadata": {},
   "outputs": [
    {
     "name": "stdin",
     "output_type": "stream",
     "text": [
      "Enter the distance traveled (in meters):  12\n",
      "Enter the time taken (in seconds):  2\n"
     ]
    },
    {
     "name": "stdout",
     "output_type": "stream",
     "text": [
      "The speed of the object is: 6.0 meters per second\n"
     ]
    }
   ],
   "source": [
    "distance = float(input(\"Enter the distance traveled (in meters): \"))\n",
    "time = float(input(\"Enter the time taken (in seconds): \"))\n",
    "speed = distance / time\n",
    "print(\"The speed of the object is:\", speed, \"meters per second\")"
   ]
  },
  {
   "cell_type": "code",
   "execution_count": null,
   "id": "f30614e1-6f61-41c9-b21e-07275e5d4fad",
   "metadata": {},
   "outputs": [],
   "source": [
    "5) BMI Calculator:\n",
    "Write a Python program to calculate the Body Mass Index (BMI). Use the formula:\n",
    "BMI = ௐ௘௜௚௛௧(௄௚)\n",
    "(ு௘௜௚௛௧).మ\n",
    " Take Weight (in kilograms) and Height (in meters) as inputs from the user. "
   ]
  },
  {
   "cell_type": "code",
   "execution_count": 11,
   "id": "d5a67468-3d99-48d7-b07e-f60d6216a0ab",
   "metadata": {},
   "outputs": [
    {
     "name": "stdin",
     "output_type": "stream",
     "text": [
      "Enter your weight in kilograms:  34\n",
      "Enter your height in meters:  56\n"
     ]
    },
    {
     "name": "stdout",
     "output_type": "stream",
     "text": [
      "Your Body Mass Index (BMI) is: 0.010841836734693877\n"
     ]
    }
   ],
   "source": [
    "weight = float(input(\"Enter your weight in kilograms: \"))\n",
    "height = float(input(\"Enter your height in meters: \"))\n",
    "bmi = weight / (height ** 2)\n",
    "print(\"Your Body Mass Index (BMI) is:\", bmi)\n"
   ]
  },
  {
   "cell_type": "code",
   "execution_count": null,
   "id": "8773d1e7-dcf9-4ba2-aba7-356a26f2c655",
   "metadata": {},
   "outputs": [],
   "source": [
    "6) Force Using Newton's Second Law:\n",
    "Write a Python program to calculate the force on an object. Use the formula:\n",
    "Take m (mass in kilograms) and a (acceleration in meters/second²) as inputs from the\n",
    "user. "
   ]
  },
  {
   "cell_type": "code",
   "execution_count": 12,
   "id": "b58278fb-7c11-4130-be75-96c41a5a99a1",
   "metadata": {},
   "outputs": [
    {
     "name": "stdin",
     "output_type": "stream",
     "text": [
      "Enter the mass of the object in kilograms:  12\n",
      "Enter the acceleration of the object in meters/second²:  12\n"
     ]
    },
    {
     "name": "stdout",
     "output_type": "stream",
     "text": [
      "The force on the object is: 144.0 Newtons\n"
     ]
    }
   ],
   "source": [
    "mass = float(input(\"Enter the mass of the object in kilograms: \"))\n",
    "acceleration = float(input(\"Enter the acceleration of the object in meters/second²: \"))\n",
    "force = mass * acceleration\n",
    "print(\"The force on the object is:\", force, \"Newtons\")"
   ]
  },
  {
   "cell_type": "code",
   "execution_count": null,
   "id": "ce3ed9a0-7b85-4d67-81bf-bb36e548e14d",
   "metadata": {},
   "outputs": [],
   "source": [
    "7) Compound Interest:\n",
    "Write a Python program to calculate compound interest. Use the formula:\n",
    "𝒓\n",
    "𝒏\n",
    "n-t\n",
    "Where:\n",
    "A= total amount\n",
    "P = principal amount\n",
    "r = annual interest rate (decimal)\n",
    "n = number of times interest is compounded per year\n",
    "t = time in years\n",
    "Take P, r, n, and t as inputs from the user."
   ]
  },
  {
   "cell_type": "code",
   "execution_count": 14,
   "id": "780bfba8-2942-4a3c-858f-f1d7ee320d74",
   "metadata": {},
   "outputs": [
    {
     "name": "stdin",
     "output_type": "stream",
     "text": [
      "Enter the principal amount (P):  1\n",
      "Enter the annual interest rate (r) in decimal:  1\n",
      "Enter the number of times interest is compounded per year (n):  1\n",
      "Enter the time in years (t):  1\n"
     ]
    },
    {
     "name": "stdout",
     "output_type": "stream",
     "text": [
      "The total amount (A) is: 1.0\n",
      "The compound interest (CI) is: 0.0\n"
     ]
    }
   ],
   "source": [
    "P = float(input(\"Enter the principal amount (P): \"))\n",
    "r = float(input(\"Enter the annual interest rate (r) in decimal: \"))\n",
    "n = int(input(\"Enter the number of times interest is compounded per year (n): \"))\n",
    "t = float(input(\"Enter the time in years (t): \"))\n",
    "\n",
    "A = P * (1 + r / n) ** (n - t)\n",
    "\n",
    "#compound interest\n",
    "compound_interest = A - P\n",
    "\n",
    "print(\"The total amount (A) is:\", A)\n",
    "print(\"The compound interest (CI) is:\", compound_interest)"
   ]
  },
  {
   "cell_type": "code",
   "execution_count": null,
   "id": "e29c4bc8-06d6-4aab-b847-815514ebb7aa",
   "metadata": {},
   "outputs": [],
   "source": [
    "8) Perimeter of a Triangle:\n",
    "Write a Python program to calculate the perimeter of a triangle. Use the formula:\n",
    "𝑷𝒆𝒓𝒊𝒎𝒆𝒕𝒆𝒓 = 𝒂 + 𝒃 + 𝒄\n",
    "Take a, b, and c (lengths of the three sides) as inputs from the user."
   ]
  },
  {
   "cell_type": "code",
   "execution_count": 15,
   "id": "ef49b28c-5c35-450a-a8fd-03927d6c0c92",
   "metadata": {},
   "outputs": [
    {
     "name": "stdin",
     "output_type": "stream",
     "text": [
      "Enter the length of side a:  12\n",
      "Enter the length of side b:  12\n",
      "Enter the length of side c:  12\n"
     ]
    },
    {
     "name": "stdout",
     "output_type": "stream",
     "text": [
      "The perimeter of the triangle is: 36.0\n"
     ]
    }
   ],
   "source": [
    "a = float(input(\"Enter the length of side a: \"))\n",
    "b = float(input(\"Enter the length of side b: \"))\n",
    "c = float(input(\"Enter the length of side c: \"))\n",
    "perimeter = a + b + c\n",
    "print(\"The perimeter of the triangle is:\", perimeter)"
   ]
  },
  {
   "cell_type": "code",
   "execution_count": null,
   "id": "38b0cdaa-fbfa-4b02-a2bf-0665d81e8139",
   "metadata": {},
   "outputs": [],
   "source": [
    "9) Volume of a Sphere:\n",
    "Write a Python program to calculate the volume of a sphere. Use the formula:\n",
    "ଷ\n",
    "Take r (radius) as input from the user. "
   ]
  },
  {
   "cell_type": "code",
   "execution_count": 16,
   "id": "c2582ad8-f967-407f-8b61-8a0b73baeebd",
   "metadata": {},
   "outputs": [
    {
     "name": "stdin",
     "output_type": "stream",
     "text": [
      "Enter the radius of the sphere:  12\n"
     ]
    },
    {
     "name": "stdout",
     "output_type": "stream",
     "text": [
      "The volume of the sphere is: 7238.229473870882\n"
     ]
    }
   ],
   "source": [
    "import math\n",
    "radius = float(input(\"Enter the radius of the sphere: \"))\n",
    "volume = (4 / 3) * math.pi * (radius ** 3)\n",
    "print(\"The volume of the sphere is:\", volume)"
   ]
  },
  {
   "cell_type": "code",
   "execution_count": null,
   "id": "f0b7c6b3-6060-4421-a76d-317d9aa5203e",
   "metadata": {},
   "outputs": [],
   "source": [
    "10) Kinetic Energy:\n",
    "Write a Python program to calculate the kinetic energy of an object. Use the formula:\n",
    "𝑲𝑬 =\n",
    "𝟏\n",
    "𝟐\n",
    "𝒎 𝑽\n",
    "𝟐\n",
    "Take m (mass in kilograms) and v (velocity in meters/second) as inputs from the user. "
   ]
  },
  {
   "cell_type": "code",
   "execution_count": 17,
   "id": "8f0ba07a-4181-40d5-8660-393b06eab75d",
   "metadata": {},
   "outputs": [
    {
     "name": "stdin",
     "output_type": "stream",
     "text": [
      "Enter the mass of the object in kilograms:  120\n",
      "Enter the velocity of the object in meters/second:  20\n"
     ]
    },
    {
     "name": "stdout",
     "output_type": "stream",
     "text": [
      "The kinetic energy of the object is: 24000.0 Joules\n"
     ]
    }
   ],
   "source": [
    "mass = float(input(\"Enter the mass of the object in kilograms: \"))\n",
    "velocity = float(input(\"Enter the velocity of the object in meters/second: \"))\n",
    "kinetic_energy = 0.5 * mass * (velocity ** 2)\n",
    "print(\"The kinetic energy of the object is:\", kinetic_energy, \"Joules\")"
   ]
  },
  {
   "cell_type": "code",
   "execution_count": null,
   "id": "36fd2809-bb5e-4a71-8449-747e10a4ff3d",
   "metadata": {},
   "outputs": [],
   "source": [
    "11) Quadratic Equation Roots:\n",
    "Write a Python program to find the roots of a quadratic equation. Use the formula:\n",
    "X = ି௕±√௕\n",
    "మିସ௔௖\n",
    "ଶ௔\n",
    "Take a, b, and c as inputs from the user. "
   ]
  },
  {
   "cell_type": "code",
   "execution_count": 18,
   "id": "e82674c0-5e0f-490c-aa59-2c4dc4ab4c7f",
   "metadata": {},
   "outputs": [
    {
     "name": "stdin",
     "output_type": "stream",
     "text": [
      "Enter the coefficient a:  13\n",
      "Enter the coefficient b:  34\n",
      "Enter the coefficient c:  34\n"
     ]
    },
    {
     "name": "stdout",
     "output_type": "stream",
     "text": [
      "The roots of the quadratic equation are:\n",
      "Root 1: (-1.3076923076923077+0.9514859136040754j)\n",
      "Root 2: (-1.3076923076923077-0.9514859136040754j)\n"
     ]
    }
   ],
   "source": [
    "import cmath \n",
    "\n",
    "a = float(input(\"Enter the coefficient a: \"))\n",
    "b = float(input(\"Enter the coefficient b: \"))\n",
    "c = float(input(\"Enter the coefficient c: \"))\n",
    "discriminant = b**2 - 4*a*c\n",
    "root1 = (-b + cmath.sqrt(discriminant)) / (2 * a)\n",
    "root2 = (-b - cmath.sqrt(discriminant)) / (2 * a)\n",
    "\n",
    "print(\"The roots of the quadratic equation are:\")\n",
    "print(\"Root 1:\", root1)\n",
    "print(\"Root 2:\", root2)\n"
   ]
  },
  {
   "cell_type": "code",
   "execution_count": null,
   "id": "3c5c4307-246e-43ed-b792-e159e0f8d73f",
   "metadata": {},
   "outputs": [],
   "source": [
    "12) Temperature Conversion:\n",
    "Write a Python program to convert a temperature from Celsius to Fahrenheit. Use the\n",
    "formula:\n",
    "Take C (temperature in Celsius) as input from the user. "
   ]
  },
  {
   "cell_type": "code",
   "execution_count": 19,
   "id": "4dbe3e76-1ec5-4f82-a44e-9dd67b0b10dd",
   "metadata": {},
   "outputs": [
    {
     "name": "stdin",
     "output_type": "stream",
     "text": [
      "Enter the temperature in Celsius:  12\n"
     ]
    },
    {
     "name": "stdout",
     "output_type": "stream",
     "text": [
      "The temperature in Fahrenheit is: 53.6\n"
     ]
    }
   ],
   "source": [
    "celsius = float(input(\"Enter the temperature in Celsius: \"))\n",
    "fahrenheit = (celsius * 9/5) + 32\n",
    "print(f\"The temperature in Fahrenheit is: {fahrenheit}\")"
   ]
  },
  {
   "cell_type": "code",
   "execution_count": null,
   "id": "03c553c9-519e-4bd2-a658-124183e0398a",
   "metadata": {},
   "outputs": [],
   "source": [
    "13) Gravitational Force:\n",
    "Write a Python program to calculate the gravitational force between two objects. Use\n",
    "the formula\n",
    "𝑭 = 𝑮\n",
    "𝒎𝟏 ∗ 𝒎𝟐\n",
    "𝒓\n",
    "𝟐\n",
    "m1, m2 are the masses of the objects\n",
    "r = distance between the centers of the objects\n",
    "Take m1, m2 and r as inputs from the user."
   ]
  },
  {
   "cell_type": "code",
   "execution_count": 20,
   "id": "6a099927-24ef-4144-931a-a6e75efac35c",
   "metadata": {},
   "outputs": [
    {
     "name": "stdin",
     "output_type": "stream",
     "text": [
      "Enter the mass of the first object (m1) in kilograms:  12\n",
      "Enter the mass of the second object (m2) in kilograms:  12\n",
      "Enter the distance between the centers of the objects (r) in meters:  12\n"
     ]
    },
    {
     "name": "stdout",
     "output_type": "stream",
     "text": [
      "The gravitational force between the objects is: 6.674e-11 Newtons\n"
     ]
    }
   ],
   "source": [
    "G = 6.674 * 10**-11\n",
    "m1 = float(input(\"Enter the mass of the first object (m1) in kilograms: \"))\n",
    "m2 = float(input(\"Enter the mass of the second object (m2) in kilograms: \"))\n",
    "r = float(input(\"Enter the distance between the centers of the objects (r) in meters: \"))\n",
    "force = G * m1 * m2 / r**2\n",
    "print(f\"The gravitational force between the objects is: {force} Newtons\")"
   ]
  },
  {
   "cell_type": "code",
   "execution_count": null,
   "id": "5190e4f8-ff77-421e-b31e-44086445a6ec",
   "metadata": {},
   "outputs": [],
   "source": [
    "14) Volume of a Cylinder:\n",
    "Write a Python program to calculate the volume of a cylinder. Use the formula:\n",
    "𝑽𝒐𝒍𝒖𝒎𝒆 = 𝝅𝒓𝟐𝒉\n",
    "Take radius(r) and height(h) as inputs from the user"
   ]
  },
  {
   "cell_type": "code",
   "execution_count": 21,
   "id": "8eb60234-1c53-462f-b09d-7428d2be7c6a",
   "metadata": {},
   "outputs": [
    {
     "name": "stdin",
     "output_type": "stream",
     "text": [
      "Enter the radius of the cylinder:  12\n",
      "Enter the height of the cylinder:  12\n"
     ]
    },
    {
     "name": "stdout",
     "output_type": "stream",
     "text": [
      "The volume of the cylinder is: 5428.672105403162\n"
     ]
    }
   ],
   "source": [
    "import math\n",
    "radius = float(input(\"Enter the radius of the cylinder: \"))\n",
    "height = float(input(\"Enter the height of the cylinder: \"))\n",
    "volume = math.pi * (radius ** 2) * height\n",
    "\n",
    "print(f\"The volume of the cylinder is: {volume}\")"
   ]
  },
  {
   "cell_type": "code",
   "execution_count": null,
   "id": "00a50bad-b4c5-4d6d-9682-003aed036465",
   "metadata": {},
   "outputs": [],
   "source": [
    "15) Pressure:\n",
    "Write a Python program to calculate the pressure exerted by a force on a surface. Use\n",
    "the formula:\n",
    "𝑷 =\n",
    "𝑭\n",
    "𝑨\n",
    "P = pressure\n",
    "F = force\n",
    "A = area\n",
    "Take F(force) and A(area) as inputs from the user. "
   ]
  },
  {
   "cell_type": "code",
   "execution_count": 22,
   "id": "a451b872-a05a-4f4c-b15b-ceb489b2c0b9",
   "metadata": {},
   "outputs": [
    {
     "name": "stdin",
     "output_type": "stream",
     "text": [
      "Enter the force exerted (in Newtons):  20\n",
      "Enter the area (in square meters):  23\n"
     ]
    },
    {
     "name": "stdout",
     "output_type": "stream",
     "text": [
      "The pressure exerted is: 0.8695652173913043 Pascals (Pa)\n"
     ]
    }
   ],
   "source": [
    "force = float(input(\"Enter the force exerted (in Newtons): \"))\n",
    "area = float(input(\"Enter the area (in square meters): \"))\n",
    "pressure = force / area\n",
    "print(f\"The pressure exerted is: {pressure} Pascals (Pa)\")"
   ]
  },
  {
   "cell_type": "code",
   "execution_count": null,
   "id": "e7242bf9-1516-4317-a68e-c324a5177981",
   "metadata": {},
   "outputs": [],
   "source": [
    "16) Electric Power:\n",
    "Write a Python program to calculate the electric power consumed. Use the formula:\n",
    "where:\n",
    "P = power\n",
    "V = voltage\n",
    "I = current\n",
    "Take V(voltage) and I(current) as inputs from the user."
   ]
  },
  {
   "cell_type": "code",
   "execution_count": 23,
   "id": "8b3a78c7-71ca-4245-98ff-03441eb356d1",
   "metadata": {},
   "outputs": [
    {
     "name": "stdin",
     "output_type": "stream",
     "text": [
      "Enter the voltage (in Volts):  34\n",
      "Enter the current (in Amperes):  34\n"
     ]
    },
    {
     "name": "stdout",
     "output_type": "stream",
     "text": [
      "The electric power consumed is: 1156.0 Watts (W)\n"
     ]
    }
   ],
   "source": [
    "voltage = float(input(\"Enter the voltage (in Volts): \"))\n",
    "current = float(input(\"Enter the current (in Amperes): \"))\n",
    "\n",
    "power = voltage * current\n",
    "print(f\"The electric power consumed is: {power} Watts (W)\")"
   ]
  },
  {
   "cell_type": "code",
   "execution_count": null,
   "id": "d24b76bd-219a-4faa-8cc7-79538f1ae961",
   "metadata": {},
   "outputs": [],
   "source": [
    "17) Perimeter of a Circle (Circumference):\n",
    "Write a Python program to calculate the perimeter (circumference) of a circle. Use the\n",
    "formula:\n",
    "Take r (radius) as input from the user. "
   ]
  },
  {
   "cell_type": "code",
   "execution_count": 24,
   "id": "e2314934-9921-48e2-bcec-71a3903fd6e0",
   "metadata": {},
   "outputs": [
    {
     "name": "stdin",
     "output_type": "stream",
     "text": [
      "Enter the radius of the circle:  12\n"
     ]
    },
    {
     "name": "stdout",
     "output_type": "stream",
     "text": [
      "The circumference of the circle is: 75.39822368615503\n"
     ]
    }
   ],
   "source": [
    "import math\n",
    "radius = float(input(\"Enter the radius of the circle: \"))\n",
    "circumference = 2 * math.pi * radius\n",
    "print(f\"The circumference of the circle is: {circumference}\")"
   ]
  },
  {
   "cell_type": "code",
   "execution_count": null,
   "id": "ec282829-f658-4421-a66a-3eabb60c1d96",
   "metadata": {},
   "outputs": [],
   "source": [
    "18) Future Value in Savings:\n",
    "Write a Python program to calculate the future value of an investment. Use the formula:\n",
    "𝐹𝑉 = 𝑃𝑉(1 + 𝑟)\n",
    "௧\n",
    "where:\n",
    "o FV= future value\n",
    "o PV= present value\n",
    "o r= annual interest rate (as a decimal)\n",
    "o t= time in years\n",
    "Take PV, r, and t as inputs from the user. "
   ]
  },
  {
   "cell_type": "code",
   "execution_count": 25,
   "id": "651481a2-d7e6-425f-9bdb-f52bd0a8a550",
   "metadata": {},
   "outputs": [
    {
     "name": "stdin",
     "output_type": "stream",
     "text": [
      "Enter the present value (initial investment):  12\n",
      "Enter the annual interest rate (as a decimal):  12\n",
      "Enter the time in years:  12\n"
     ]
    },
    {
     "name": "stdout",
     "output_type": "stream",
     "text": [
      "The future value of the investment is: 279577021469772.0\n"
     ]
    }
   ],
   "source": [
    "PV = float(input(\"Enter the present value (initial investment): \"))\n",
    "r = float(input(\"Enter the annual interest rate (as a decimal): \"))\n",
    "t = float(input(\"Enter the time in years: \"))\n",
    "FV = PV * (1 + r) ** t\n",
    "print(f\"The future value of the investment is: {FV}\")"
   ]
  },
  {
   "cell_type": "code",
   "execution_count": null,
   "id": "67e37d2d-cf26-4786-b032-020f4e6cb025",
   "metadata": {},
   "outputs": [],
   "source": [
    "19) Work Done by a Force:\n",
    "Write a Python program to calculate the work done by a force. Use the formula:\n",
    "where:\n",
    "W = work done\n",
    "f= force\n",
    "d = distance\n",
    "theta = angle between force and direction of movement (in degrees)\n",
    "Take f, d, and θ as inputs from the user"
   ]
  },
  {
   "cell_type": "code",
   "execution_count": 2,
   "id": "9a024398-1f10-4fa2-8f81-f022c377655d",
   "metadata": {},
   "outputs": [
    {
     "name": "stdin",
     "output_type": "stream",
     "text": [
      "Enter the force (in Newtons):  7\n",
      "Enter the distance (in meters):  9\n",
      "Enter the angle between force and direction of movement (in degrees):  9\n"
     ]
    },
    {
     "name": "stdout",
     "output_type": "stream",
     "text": [
      "The work done is 62.22 Joules.\n"
     ]
    }
   ],
   "source": [
    "import math\n",
    "def calculate_work_done(f, d, theta):\n",
    "    theta_rad = math.radians(theta)\n",
    "    W = f * d * math.cos(theta_rad)\n",
    "    return W\n",
    "\n",
    "f = float(input(\"Enter the force (in Newtons): \"))\n",
    "d = float(input(\"Enter the distance (in meters): \"))\n",
    "theta = float(input(\"Enter the angle between force and direction of movement (in degrees): \"))\n",
    "\n",
    "work_done = calculate_work_done(f, d, theta)\n",
    "print(f\"The work done is {work_done:.2f} Joules.\")"
   ]
  },
  {
   "cell_type": "code",
   "execution_count": null,
   "id": "bb93a90d-868a-403c-a858-f7721a7c825d",
   "metadata": {},
   "outputs": [],
   "source": [
    "20)Heat Transfer:\n",
    "Write a Python program to calculate the amount of heat transferred. Use the formula:\n",
    "𝑄 = 𝑚𝑐 (∆T)\n",
    "where:\n",
    "Q= heat transfer\n",
    "m = mass\n",
    "c = specific heat capacity\n",
    "ΔT\n",
    "Take m, c, T as inputs from the user."
   ]
  },
  {
   "cell_type": "code",
   "execution_count": 1,
   "id": "c5f6cbf1-97ff-41b3-a7e4-9017b467a91e",
   "metadata": {},
   "outputs": [
    {
     "name": "stdin",
     "output_type": "stream",
     "text": [
      "Enter the mass (in kg):  12\n",
      "Enter the specific heat capacity (in J/kg°C):  21\n",
      "Enter the initial temperature (in °C):  21\n",
      "Enter the final temperature (in °C):  12\n"
     ]
    },
    {
     "name": "stdout",
     "output_type": "stream",
     "text": [
      "The heat transfer is -2268.0 Joules.\n"
     ]
    }
   ],
   "source": [
    "def calculate_heat_transfer(m, c, T_initial, T_final):\n",
    "    delta_T = T_final - T_initial\n",
    "    Q = m * c * delta_T\n",
    "    return Q\n",
    "m = float(input(\"Enter the mass (in kg): \"))\n",
    "c = float(input(\"Enter the specific heat capacity (in J/kg°C): \"))\n",
    "T_initial = float(input(\"Enter the initial temperature (in °C): \"))\n",
    "T_final = float(input(\"Enter the final temperature (in °C): \"))\n",
    "\n",
    "heat_transfer = calculate_heat_transfer(m, c, T_initial, T_final)\n",
    "print(f\"The heat transfer is {heat_transfer} Joules.\")"
   ]
  },
  {
   "cell_type": "code",
   "execution_count": null,
   "id": "d52e2ce3-cd13-4c49-a80b-57340fb21ab7",
   "metadata": {},
   "outputs": [],
   "source": []
  },
  {
   "cell_type": "code",
   "execution_count": null,
   "id": "e4202c72-2274-40b0-a016-86f5857390d3",
   "metadata": {},
   "outputs": [],
   "source": []
  },
  {
   "cell_type": "code",
   "execution_count": null,
   "id": "33ebde46-033e-4ff1-9f72-04cf0a57ffb1",
   "metadata": {},
   "outputs": [],
   "source": []
  },
  {
   "cell_type": "code",
   "execution_count": null,
   "id": "0ec21b78-8e4c-4acc-bd5f-2934b0580f9b",
   "metadata": {},
   "outputs": [],
   "source": []
  },
  {
   "cell_type": "code",
   "execution_count": null,
   "id": "6c7fb4c1-550f-437c-8a83-5d0ff6682400",
   "metadata": {},
   "outputs": [],
   "source": []
  }
 ],
 "metadata": {
  "kernelspec": {
   "display_name": "Python 3 (ipykernel)",
   "language": "python",
   "name": "python3"
  },
  "language_info": {
   "codemirror_mode": {
    "name": "ipython",
    "version": 3
   },
   "file_extension": ".py",
   "mimetype": "text/x-python",
   "name": "python",
   "nbconvert_exporter": "python",
   "pygments_lexer": "ipython3",
   "version": "3.12.7"
  }
 },
 "nbformat": 4,
 "nbformat_minor": 5
}
